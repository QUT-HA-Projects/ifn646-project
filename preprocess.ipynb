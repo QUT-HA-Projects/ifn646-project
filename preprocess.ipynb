{
 "cells": [
  {
   "cell_type": "markdown",
   "metadata": {},
   "source": [
    "# Preprocessing\n",
    "Putting the images into a folder structure that can be used by keras flow_from_directory"
   ]
  },
  {
   "cell_type": "code",
   "execution_count": null,
   "metadata": {},
   "outputs": [],
   "source": [
    "import pandas as pd\n",
    "import os\n",
    "from PIL import Image"
   ]
  },
  {
   "cell_type": "code",
   "execution_count": null,
   "metadata": {},
   "outputs": [],
   "source": [
    "paths = [\n",
    "    \"calc_case_description_test_set.csv\",\n",
    "    \"calc_case_description_train_set.csv\",\n",
    "    \"mass_case_description_test_set.csv\",\n",
    "    \"mass_case_description_train_set.csv\",\n",
    "]"
   ]
  },
  {
   "cell_type": "code",
   "execution_count": null,
   "metadata": {},
   "outputs": [],
   "source": [
    "df = pd.read_csv(f\"data/{paths[0]}\")\n",
    "df.head()"
   ]
  },
  {
   "cell_type": "code",
   "execution_count": null,
   "metadata": {},
   "outputs": [],
   "source": [
    "image_types = [\"full\", \"cropped\"]\n",
    "classes = [\"benign\", \"malignant\"]\n",
    "\n",
    "# For each row process the data\n",
    "for path in paths:\n",
    "    df = pd.read_csv(f\"data/{path}\")\n",
    "\n",
    "    # What dataset is it part of (train or test)\n",
    "    data_split = path.split(\"_\")[3]\n",
    "    # Is it mass or calc\n",
    "    data_set = path.split(\"_\")[0]\n",
    "    \n",
    "    # Verify that the folder exists\n",
    "    for image_type in image_types:\n",
    "        # Destination for the images\n",
    "        dest_folder = f\"data/{image_type}/{data_set}/{data_split}\"\n",
    "\n",
    "        # Create the folders if they don't exist\n",
    "        for class_ in classes:\n",
    "            class_path = f\"{dest_folder}/{class_}\"\n",
    "            if not os.path.exists(class_path):\n",
    "                os.makedirs(class_path)\n",
    "\n",
    "        # For each row process the data\n",
    "        for index, row in df.iterrows():\n",
    "\n",
    "            # Get the image id\n",
    "            if image_type == \"full\":\n",
    "                image_id = row['image file path'].split(\"/\")[2]\n",
    "            else:\n",
    "                image_id = row['cropped image file path'].split(\"/\")[2]\n",
    "            \n",
    "            image_path = 'archive/jpeg/' + image_id\n",
    "\n",
    "            # Extract the class\n",
    "            image_class = row['pathology'].split(\"_\")[0].lower()\n",
    "            \n",
    "            try:\n",
    "                # Only copy the image with the lowest resolution\n",
    "                images = os.listdir(image_path)\n",
    "                # Get the resolution of each image\n",
    "                resolutions = []\n",
    "                for image in images:\n",
    "                    loaded_image = Image.open(f\"{image_path}/{image}\")\n",
    "                    resolutions.append(loaded_image.size[0] * loaded_image.size[1])\n",
    "                # Get the lowest resolution file\n",
    "                lowest_resolution_index = resolutions.index(min(resolutions))\n",
    "                file = images[lowest_resolution_index]\n",
    "                os.system(f'cp {image_path}/{file} {dest_folder}/{image_class}/{image_id}_{file}')\n",
    "\n",
    "            except:\n",
    "                # If the image doesn't exist, skip it and move on\n",
    "                print(f\"Error: {image_path}\")\n"
   ]
  }
 ],
 "metadata": {
  "kernelspec": {
   "display_name": "Python 3.9.7 ('base')",
   "language": "python",
   "name": "python3"
  },
  "language_info": {
   "codemirror_mode": {
    "name": "ipython",
    "version": 3
   },
   "file_extension": ".py",
   "mimetype": "text/x-python",
   "name": "python",
   "nbconvert_exporter": "python",
   "pygments_lexer": "ipython3",
   "version": "3.9.7"
  },
  "orig_nbformat": 4,
  "vscode": {
   "interpreter": {
    "hash": "3067ead486e059ec00ffe7555bdb889e6e264a24dc711bf108106cc7baee8d5d"
   }
  }
 },
 "nbformat": 4,
 "nbformat_minor": 2
}
