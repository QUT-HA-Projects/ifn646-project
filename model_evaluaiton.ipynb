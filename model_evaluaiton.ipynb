{
 "cells": [
  {
   "cell_type": "code",
   "execution_count": 27,
   "metadata": {},
   "outputs": [],
   "source": [
    "# Flow_from_directory\n",
    "# https://www.tensorflow.org/api_docs/python/tf/keras/preprocessing/image/ImageDataGenerator\n",
    "from tensorflow.keras.preprocessing.image import ImageDataGenerator\n",
    "from tensorflow.keras.models import Sequential, load_model\n",
    "from tensorflow.keras.layers import Conv2D, MaxPooling2D, Flatten, Dense, Dropout\n",
    "from tensorflow.keras.applications.resnet import ResNet152\n",
    "from tensorflow.keras.regularizers import L2\n",
    "import pandas as pd\n"
   ]
  },
  {
   "cell_type": "code",
   "execution_count": 2,
   "metadata": {},
   "outputs": [
    {
     "name": "stdout",
     "output_type": "stream",
     "text": [
      "Found 36 images belonging to 2 classes.\n",
      "Found 7 images belonging to 2 classes.\n",
      "Found 6 images belonging to 2 classes.\n"
     ]
    }
   ],
   "source": [
    "IMAGE_SIZE = 224\n",
    "\n",
    "# Test data\n",
    "test_generator = ImageDataGenerator(rescale=1./255)\n",
    "test = test_generator.flow_from_directory('data/full/calc/test/', target_size=(IMAGE_SIZE, IMAGE_SIZE), batch_size=16, class_mode='binary')"
   ]
  },
  {
   "cell_type": "code",
   "execution_count": 28,
   "metadata": {},
   "outputs": [],
   "source": [
    "# load model\n",
    "model = load_model('model.h5')"
   ]
  },
  {
   "cell_type": "code",
   "execution_count": 6,
   "metadata": {},
   "outputs": [
    {
     "data": {
      "text/plain": [
       "<Figure size 432x288 with 0 Axes>"
      ]
     },
     "execution_count": 6,
     "metadata": {},
     "output_type": "execute_result"
    },
    {
     "data": {
      "image/png": "[encoded data removed]",
      "text/plain": [
       "<Figure size 432x288 with 1 Axes>"
      ]
     },
     "metadata": {
      "needs_background": "light"
     },
     "output_type": "display_data"
    },
    {
     "data": {
      "text/plain": [
       "<Figure size 432x288 with 0 Axes>"
      ]
     },
     "metadata": {},
     "output_type": "display_data"
    }
   ],
   "source": [
    "# Plot the training and validation accuracy and loss at each epoch\n",
    "import matplotlib.pyplot as plt\n",
    "acc = model.history.history['accuracy']\n",
    "val_acc = model.history.history['val_accuracy']\n",
    "loss = model.history.history['loss']\n",
    "val_loss = model.history.history['val_loss']\n",
    "\n",
    "epochs = range(len(acc))\n",
    "\n",
    "plt.plot(epochs, acc, 'r', label='Training accuracy')\n",
    "plt.plot(epochs, val_acc, 'b', label='Validation accuracy')\n",
    "plt.title('Training and validation accuracy')\n",
    "plt.legend(loc=0)\n",
    "plt.figure()"
   ]
  },
  {
   "cell_type": "code",
   "execution_count": 7,
   "metadata": {},
   "outputs": [
    {
     "name": "stdout",
     "output_type": "stream",
     "text": [
      "1/1 [==============================] - 4s 4s/step\n"
     ]
    },
    {
     "data": {
      "text/plain": [
       "Text(0, 0.5, 'True positive rate')"
      ]
     },
     "execution_count": 7,
     "metadata": {},
     "output_type": "execute_result"
    },
    {
     "data": {
      "image/png": "[encoded data removed]",
      "text/plain": [
       "<Figure size 432x288 with 1 Axes>"
      ]
     },
     "metadata": {
      "needs_background": "light"
     },
     "output_type": "display_data"
    }
   ],
   "source": [
    "# Create roc curve\n",
    "from sklearn.metrics import roc_curve\n",
    "import matplotlib.pyplot as plt\n",
    "import numpy as np\n",
    "\n",
    "# Get the predictions from the model using the generator\n",
    "predictions = model.predict(test)\n",
    "\n",
    "# Get the true values from the generator\n",
    "true_values = test.classes\n",
    "\n",
    "# Get the predicted probabilities for each class\n",
    "pred_probabilities = predictions\n",
    "\n",
    "# Get the false positive rate and true positive rate\n",
    "fpr, tpr, thresholds = roc_curve(true_values, pred_probabilities)\n",
    "\n",
    "# Plot the ROC curve\n",
    "plt.plot([0, 1], [0, 1], 'k--')\n",
    "plt.plot(fpr, tpr, label='ResNet152')\n",
    "plt.xlabel('False positive rate')\n",
    "plt.ylabel('True positive rate')"
   ]
  },
  {
   "cell_type": "markdown",
   "metadata": {},
   "source": [
    "### Recall, percission and accuracy"
   ]
  },
  {
   "cell_type": "code",
   "execution_count": 23,
   "metadata": {},
   "outputs": [],
   "source": [
    "# helper funcitons\n",
    "def get_recall_i(conf_mat, i):\n",
    "    \"\"\"\n",
    "    Computes.\n",
    "    \"\"\"\n",
    "    return conf_mat[i, i] / np.sum(conf_mat[:, i])\n",
    "\n",
    "\n",
    "def get_all_recalls(conf_mat):\n",
    "    \"\"\"\n",
    "    Computes All recalls\n",
    "    \"\"\"\n",
    "\n",
    "    return [get_recall_i(conf_mat, i) for i in range(conf_mat.shape[0])]\n",
    "\n",
    "\n",
    "def get_percision_i(conf_mat, i):\n",
    "    \"\"\"\n",
    "    Computes.\n",
    "    \"\"\"\n",
    "    return conf_mat[i, i] / np.sum(conf_mat[i, :])\n",
    "\n",
    "\n",
    "def get_all_percisions(conf_mat):\n",
    "    \"\"\"\n",
    "    Computes all percisions.\n",
    "    \"\"\"\n",
    "\n",
    "    return [get_percision_i(conf_mat, i) for i in range(conf_mat.shape[0])]\n",
    "\n",
    "\n",
    "def get_overall_accuracy(conf_mat):\n",
    "    \"\"\"\n",
    "    Computes the overall accuracy of the given confusion matrix.\n",
    "    \"\"\"\n",
    "    return np.trace(conf_mat) / np.sum(conf_mat)\n",
    "\n",
    "def get_confusion_matrix(result):\n",
    "    result[\"Rounded\"] = result[\"Prediction\"].round()\n",
    "    \n",
    "    # creates confusion matrix\n",
    "    true_positive_fake = result[(result['Filename'].str.contains(\n",
    "        'benign')) & (result['Rounded'] == 0)].count()[0]\n",
    "    false_positive_fake = result[(result['Filename'].str.contains(\n",
    "        'malignant')) & (result['Rounded'] == 0)].count()[0]\n",
    "\n",
    "    true_positive_real = result[(result['Filename'].str.contains(\n",
    "        'malignant')) & (result['Rounded'] == 1)].count()[0]\n",
    "    false_positive_real = result[(result['Filename'].str.contains(\n",
    "        'benign')) & (result['Rounded'] == 1)].count()[0]\n",
    "\n",
    "    conf_matrix = np.matrix([\n",
    "        [true_positive_fake, false_positive_fake],\n",
    "        [false_positive_real, true_positive_real]\n",
    "    ])\n",
    "    \n",
    "    return conf_matrix"
   ]
  },
  {
   "cell_type": "code",
   "execution_count": 8,
   "metadata": {},
   "outputs": [
    {
     "name": "stdout",
     "output_type": "stream",
     "text": [
      "1/1 [==============================] - 2s 2s/step\n"
     ]
    },
    {
     "data": {
      "text/plain": [
       "array([[0.],\n",
       "       [0.],\n",
       "       [0.],\n",
       "       [0.],\n",
       "       [0.],\n",
       "       [0.]], dtype=float32)"
      ]
     },
     "execution_count": 8,
     "metadata": {},
     "output_type": "execute_result"
    }
   ],
   "source": [
    "# predictions and evaluation\n",
    "pred_res = model.predict(\n",
    "            test,\n",
    "            verbose=1)"
   ]
  },
  {
   "cell_type": "code",
   "execution_count": 19,
   "metadata": {},
   "outputs": [
    {
     "data": {
      "text/html": [
       "<div>\n",
       "<style scoped>\n",
       "    .dataframe tbody tr th:only-of-type {\n",
       "        vertical-align: middle;\n",
       "    }\n",
       "\n",
       "    .dataframe tbody tr th {\n",
       "        vertical-align: top;\n",
       "    }\n",
       "\n",
       "    .dataframe thead th {\n",
       "        text-align: right;\n",
       "    }\n",
       "</style>\n",
       "<table border=\"1\" class=\"dataframe\">\n",
       "  <thead>\n",
       "    <tr style=\"text-align: right;\">\n",
       "      <th></th>\n",
       "      <th>Filename</th>\n",
       "      <th>Prediction</th>\n",
       "    </tr>\n",
       "  </thead>\n",
       "  <tbody>\n",
       "    <tr>\n",
       "      <th>0</th>\n",
       "      <td>benign\\1.3.6.1.4.1.9590.100.1.2.22805321931175...</td>\n",
       "      <td>0.0</td>\n",
       "    </tr>\n",
       "    <tr>\n",
       "      <th>1</th>\n",
       "      <td>benign\\1.3.6.1.4.1.9590.100.1.2.29045701201249...</td>\n",
       "      <td>0.0</td>\n",
       "    </tr>\n",
       "    <tr>\n",
       "      <th>2</th>\n",
       "      <td>benign\\1.3.6.1.4.1.9590.100.1.2.68605716126292...</td>\n",
       "      <td>0.0</td>\n",
       "    </tr>\n",
       "    <tr>\n",
       "      <th>3</th>\n",
       "      <td>malignant\\1.3.6.1.4.1.9590.100.1.2.25518783621...</td>\n",
       "      <td>0.0</td>\n",
       "    </tr>\n",
       "    <tr>\n",
       "      <th>4</th>\n",
       "      <td>malignant\\1.3.6.1.4.1.9590.100.1.2.41938323721...</td>\n",
       "      <td>0.0</td>\n",
       "    </tr>\n",
       "  </tbody>\n",
       "</table>\n",
       "</div>"
      ],
      "text/plain": [
       "                                            Filename  Prediction\n",
       "0  benign\\1.3.6.1.4.1.9590.100.1.2.22805321931175...         0.0\n",
       "1  benign\\1.3.6.1.4.1.9590.100.1.2.29045701201249...         0.0\n",
       "2  benign\\1.3.6.1.4.1.9590.100.1.2.68605716126292...         0.0\n",
       "3  malignant\\1.3.6.1.4.1.9590.100.1.2.25518783621...         0.0\n",
       "4  malignant\\1.3.6.1.4.1.9590.100.1.2.41938323721...         0.0"
      ]
     },
     "execution_count": 19,
     "metadata": {},
     "output_type": "execute_result"
    }
   ],
   "source": [
    "test_results = pd.DataFrame({\n",
    "                \"Filename\": test.filenames,\n",
    "                \"Prediction\": pred_res.flatten()\n",
    "            })\n",
    "test_results.head()"
   ]
  },
  {
   "cell_type": "code",
   "execution_count": 24,
   "metadata": {},
   "outputs": [
    {
     "name": "stdout",
     "output_type": "stream",
     "text": [
      "conf_matrix: \n",
      " [[3 3]\n",
      " [0 0]]\n",
      "Recalls: [1. 0.]\n",
      "Precisions: [0.5 nan]\n",
      "Accurcy: 0.5\n"
     ]
    },
    {
     "name": "stderr",
     "output_type": "stream",
     "text": [
      "C:\\Users\\henriks\\AppData\\Local\\Temp/ipykernel_48572/4246959766.py:21: RuntimeWarning: invalid value encountered in longlong_scalars\n",
      "  return conf_mat[i, i] / np.sum(conf_mat[i, :])\n"
     ]
    }
   ],
   "source": [
    "conf_matrix = get_confusion_matrix(test_results)\n",
    "print(\"conf_matrix: \\n\", conf_matrix)\n",
    "print(\"Recalls:\", np.round(get_all_recalls(conf_matrix), 3))\n",
    "print(\"Precisions:\", np.round(get_all_percisions(conf_matrix), 3))\n",
    "print(\"Accurcy:\", np.round(get_overall_accuracy(conf_matrix), 3))"
   ]
  }
 ],
 "metadata": {
  "kernelspec": {
   "display_name": "Python 3.9.5 64-bit",
   "language": "python",
   "name": "python3"
  },
  "language_info": {
   "codemirror_mode": {
    "name": "ipython",
    "version": 3
   },
   "file_extension": ".py",
   "mimetype": "text/x-python",
   "name": "python",
   "nbconvert_exporter": "python",
   "pygments_lexer": "ipython3",
   "version": "3.9.5"
  },
  "orig_nbformat": 4,
  "vscode": {
   "interpreter": {
    "hash": "6186f98b4107da167f8e04d2b53209365f80479d5668ca57b5633229f74e4af5"
   }
  }
 },
 "nbformat": 4,
 "nbformat_minor": 2
}
