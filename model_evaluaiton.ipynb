{
 "cells": [
  {
   "cell_type": "code",
   "execution_count": 1,
   "metadata": {},
   "outputs": [
    {
     "name": "stderr",
     "output_type": "stream",
     "text": [
      "2022-10-05 15:58:08.319777: I tensorflow/core/platform/cpu_feature_guard.cc:193] This TensorFlow binary is optimized with oneAPI Deep Neural Network Library (oneDNN) to use the following CPU instructions in performance-critical operations:  AVX2 FMA\n",
      "To enable them in other operations, rebuild TensorFlow with the appropriate compiler flags.\n"
     ]
    }
   ],
   "source": [
    "# Flow_from_directory\n",
    "# https://www.tensorflow.org/api_docs/python/tf/keras/preprocessing/image/ImageDataGenerator\n",
    "from tensorflow.keras.preprocessing.image import ImageDataGenerator\n",
    "from tensorflow.keras.models import Sequential, load_model\n",
    "from tensorflow.keras.layers import Conv2D, MaxPooling2D, Flatten, Dense, Dropout\n",
    "from tensorflow.keras.applications.resnet import ResNet152\n",
    "from tensorflow.keras.regularizers import L2\n",
    "import pandas as pd\n"
   ]
  },
  {
   "cell_type": "code",
   "execution_count": 2,
   "metadata": {},
   "outputs": [
    {
     "name": "stdout",
     "output_type": "stream",
     "text": [
      "Found 378 images belonging to 2 classes.\n"
     ]
    }
   ],
   "source": [
    "IMAGE_SIZE = 224\n",
    "\n",
    "# Test data\n",
    "test_generator = ImageDataGenerator(rescale=1./255)\n",
    "test = test_generator.flow_from_directory('data/cropped/mass/test/', target_size=(IMAGE_SIZE, IMAGE_SIZE), batch_size=16, class_mode='binary')"
   ]
  },
  {
   "cell_type": "code",
   "execution_count": 3,
   "metadata": {},
   "outputs": [
    {
     "name": "stderr",
     "output_type": "stream",
     "text": [
      "2022-10-05 15:58:14.034446: I tensorflow/core/platform/cpu_feature_guard.cc:193] This TensorFlow binary is optimized with oneAPI Deep Neural Network Library (oneDNN) to use the following CPU instructions in performance-critical operations:  AVX2 FMA\n",
      "To enable them in other operations, rebuild TensorFlow with the appropriate compiler flags.\n"
     ]
    }
   ],
   "source": [
    "# load model\n",
    "model = load_model('model-best-eller.h5')"
   ]
  },
  {
   "cell_type": "code",
   "execution_count": 7,
   "metadata": {},
   "outputs": [
    {
     "name": "stdout",
     "output_type": "stream",
     "text": [
      "24/24 [==============================] - 19s 753ms/step\n"
     ]
    },
    {
     "data": {
      "text/plain": [
       "Text(0, 0.5, 'True positive rate')"
      ]
     },
     "execution_count": 7,
     "metadata": {},
     "output_type": "execute_result"
    },
    {
     "data": {
      "image/png": "[encoded data removed]",
      "text/plain": [
       "<Figure size 432x288 with 1 Axes>"
      ]
     },
     "metadata": {
      "needs_background": "light"
     },
     "output_type": "display_data"
    }
   ],
   "source": [
    "# Create roc curve\n",
    "from sklearn.metrics import roc_curve\n",
    "import matplotlib.pyplot as plt\n",
    "import numpy as np\n",
    "\n",
    "# Get the predictions from the model using the generator\n",
    "predictions = model.predict(test)\n",
    "\n",
    "# Get the true values from the generator\n",
    "true_values = test.classes\n",
    "\n",
    "# Get the predicted probabilities for each class\n",
    "pred_probabilities = predictions\n",
    "\n",
    "# Get the false positive rate and true positive rate\n",
    "fpr, tpr, thresholds = roc_curve(true_values, pred_probabilities)\n",
    "\n",
    "# Plot the ROC curve\n",
    "plt.plot([0, 1], [0, 1], 'k--')\n",
    "plt.plot(fpr, tpr, label='ResNet152')\n",
    "plt.xlabel('False positive rate')\n",
    "plt.ylabel('True positive rate')"
   ]
  },
  {
   "cell_type": "markdown",
   "metadata": {},
   "source": [
    "### Recall, percission and accuracy"
   ]
  },
  {
   "cell_type": "code",
   "execution_count": 8,
   "metadata": {},
   "outputs": [],
   "source": [
    "# helper funcitons\n",
    "def get_recall_i(conf_mat, i):\n",
    "    \"\"\"\n",
    "    Computes.\n",
    "    \"\"\"\n",
    "    return conf_mat[i, i] / np.sum(conf_mat[:, i])\n",
    "\n",
    "\n",
    "def get_all_recalls(conf_mat):\n",
    "    \"\"\"\n",
    "    Computes All recalls\n",
    "    \"\"\"\n",
    "\n",
    "    return [get_recall_i(conf_mat, i) for i in range(conf_mat.shape[0])]\n",
    "\n",
    "\n",
    "def get_percision_i(conf_mat, i):\n",
    "    \"\"\"\n",
    "    Computes.\n",
    "    \"\"\"\n",
    "    return conf_mat[i, i] / np.sum(conf_mat[i, :])\n",
    "\n",
    "\n",
    "def get_all_percisions(conf_mat):\n",
    "    \"\"\"\n",
    "    Computes all percisions.\n",
    "    \"\"\"\n",
    "\n",
    "    return [get_percision_i(conf_mat, i) for i in range(conf_mat.shape[0])]\n",
    "\n",
    "\n",
    "def get_overall_accuracy(conf_mat):\n",
    "    \"\"\"\n",
    "    Computes the overall accuracy of the given confusion matrix.\n",
    "    \"\"\"\n",
    "    return np.trace(conf_mat) / np.sum(conf_mat)\n",
    "\n",
    "def get_confusion_matrix(result):\n",
    "    result[\"Rounded\"] = result[\"Prediction\"].round()\n",
    "    \n",
    "    # creates confusion matrix\n",
    "    true_positive_fake = result[(result['Filename'].str.contains(\n",
    "        'benign')) & (result['Rounded'] == 0)].count()[0]\n",
    "    false_positive_fake = result[(result['Filename'].str.contains(\n",
    "        'malignant')) & (result['Rounded'] == 0)].count()[0]\n",
    "\n",
    "    true_positive_real = result[(result['Filename'].str.contains(\n",
    "        'malignant')) & (result['Rounded'] == 1)].count()[0]\n",
    "    false_positive_real = result[(result['Filename'].str.contains(\n",
    "        'benign')) & (result['Rounded'] == 1)].count()[0]\n",
    "\n",
    "    conf_matrix = np.matrix([\n",
    "        [true_positive_fake, false_positive_fake],\n",
    "        [false_positive_real, true_positive_real]\n",
    "    ])\n",
    "    \n",
    "    return conf_matrix"
   ]
  },
  {
   "cell_type": "code",
   "execution_count": 9,
   "metadata": {},
   "outputs": [
    {
     "name": "stdout",
     "output_type": "stream",
     "text": [
      "24/24 [==============================] - 17s 708ms/step\n"
     ]
    }
   ],
   "source": [
    "# predictions and evaluation\n",
    "pred_res = model.predict(\n",
    "            test,\n",
    "            verbose=1)"
   ]
  },
  {
   "cell_type": "code",
   "execution_count": 14,
   "metadata": {},
   "outputs": [
    {
     "data": {
      "text/html": [
       "<div>\n",
       "<style scoped>\n",
       "    .dataframe tbody tr th:only-of-type {\n",
       "        vertical-align: middle;\n",
       "    }\n",
       "\n",
       "    .dataframe tbody tr th {\n",
       "        vertical-align: top;\n",
       "    }\n",
       "\n",
       "    .dataframe thead th {\n",
       "        text-align: right;\n",
       "    }\n",
       "</style>\n",
       "<table border=\"1\" class=\"dataframe\">\n",
       "  <thead>\n",
       "    <tr style=\"text-align: right;\">\n",
       "      <th></th>\n",
       "      <th>Filename</th>\n",
       "      <th>Prediction</th>\n",
       "    </tr>\n",
       "  </thead>\n",
       "  <tbody>\n",
       "    <tr>\n",
       "      <th>0</th>\n",
       "      <td>benign/1.3.6.1.4.1.9590.100.1.2.10106329241321...</td>\n",
       "      <td>0.517846</td>\n",
       "    </tr>\n",
       "    <tr>\n",
       "      <th>1</th>\n",
       "      <td>benign/1.3.6.1.4.1.9590.100.1.2.10531018721289...</td>\n",
       "      <td>0.461360</td>\n",
       "    </tr>\n",
       "    <tr>\n",
       "      <th>2</th>\n",
       "      <td>benign/1.3.6.1.4.1.9590.100.1.2.10658885911501...</td>\n",
       "      <td>0.513695</td>\n",
       "    </tr>\n",
       "    <tr>\n",
       "      <th>3</th>\n",
       "      <td>benign/1.3.6.1.4.1.9590.100.1.2.11095382651013...</td>\n",
       "      <td>0.598174</td>\n",
       "    </tr>\n",
       "    <tr>\n",
       "      <th>4</th>\n",
       "      <td>benign/1.3.6.1.4.1.9590.100.1.2.11211547581304...</td>\n",
       "      <td>0.490804</td>\n",
       "    </tr>\n",
       "    <tr>\n",
       "      <th>...</th>\n",
       "      <td>...</td>\n",
       "      <td>...</td>\n",
       "    </tr>\n",
       "    <tr>\n",
       "      <th>373</th>\n",
       "      <td>malignant/1.3.6.1.4.1.9590.100.1.2.90316691111...</td>\n",
       "      <td>0.505157</td>\n",
       "    </tr>\n",
       "    <tr>\n",
       "      <th>374</th>\n",
       "      <td>malignant/1.3.6.1.4.1.9590.100.1.2.92625977011...</td>\n",
       "      <td>0.509483</td>\n",
       "    </tr>\n",
       "    <tr>\n",
       "      <th>375</th>\n",
       "      <td>malignant/1.3.6.1.4.1.9590.100.1.2.94296125711...</td>\n",
       "      <td>0.449712</td>\n",
       "    </tr>\n",
       "    <tr>\n",
       "      <th>376</th>\n",
       "      <td>malignant/1.3.6.1.4.1.9590.100.1.2.94480099112...</td>\n",
       "      <td>0.530642</td>\n",
       "    </tr>\n",
       "    <tr>\n",
       "      <th>377</th>\n",
       "      <td>malignant/1.3.6.1.4.1.9590.100.1.2.96511975911...</td>\n",
       "      <td>0.507058</td>\n",
       "    </tr>\n",
       "  </tbody>\n",
       "</table>\n",
       "<p>378 rows × 2 columns</p>\n",
       "</div>"
      ],
      "text/plain": [
       "                                              Filename  Prediction\n",
       "0    benign/1.3.6.1.4.1.9590.100.1.2.10106329241321...    0.517846\n",
       "1    benign/1.3.6.1.4.1.9590.100.1.2.10531018721289...    0.461360\n",
       "2    benign/1.3.6.1.4.1.9590.100.1.2.10658885911501...    0.513695\n",
       "3    benign/1.3.6.1.4.1.9590.100.1.2.11095382651013...    0.598174\n",
       "4    benign/1.3.6.1.4.1.9590.100.1.2.11211547581304...    0.490804\n",
       "..                                                 ...         ...\n",
       "373  malignant/1.3.6.1.4.1.9590.100.1.2.90316691111...    0.505157\n",
       "374  malignant/1.3.6.1.4.1.9590.100.1.2.92625977011...    0.509483\n",
       "375  malignant/1.3.6.1.4.1.9590.100.1.2.94296125711...    0.449712\n",
       "376  malignant/1.3.6.1.4.1.9590.100.1.2.94480099112...    0.530642\n",
       "377  malignant/1.3.6.1.4.1.9590.100.1.2.96511975911...    0.507058\n",
       "\n",
       "[378 rows x 2 columns]"
      ]
     },
     "execution_count": 14,
     "metadata": {},
     "output_type": "execute_result"
    }
   ],
   "source": [
    "test_results = pd.DataFrame({\n",
    "                \"Filename\": test.filenames,\n",
    "                \"Prediction\": pred_res.flatten()\n",
    "            })\n",
    "test_results"
   ]
  },
  {
   "cell_type": "code",
   "execution_count": 11,
   "metadata": {},
   "outputs": [
    {
     "name": "stdout",
     "output_type": "stream",
     "text": [
      "conf_matrix: \n",
      " [[ 98  59]\n",
      " [133  88]]\n",
      "Recalls: [0.424 0.599]\n",
      "Precisions: [0.624 0.398]\n",
      "Accurcy: 0.492\n"
     ]
    }
   ],
   "source": [
    "conf_matrix = get_confusion_matrix(test_results)\n",
    "print(\"conf_matrix: \\n\", conf_matrix)\n",
    "print(\"Recalls:\", np.round(get_all_recalls(conf_matrix), 3))\n",
    "print(\"Precisions:\", np.round(get_all_percisions(conf_matrix), 3))\n",
    "print(\"Accurcy:\", np.round(get_overall_accuracy(conf_matrix), 3))"
   ]
  }
 ],
 "metadata": {
  "kernelspec": {
   "display_name": "Python 3.9.7 ('base')",
   "language": "python",
   "name": "python3"
  },
  "language_info": {
   "codemirror_mode": {
    "name": "ipython",
    "version": 3
   },
   "file_extension": ".py",
   "mimetype": "text/x-python",
   "name": "python",
   "nbconvert_exporter": "python",
   "pygments_lexer": "ipython3",
   "version": "3.9.7"
  },
  "orig_nbformat": 4,
  "vscode": {
   "interpreter": {
    "hash": "3067ead486e059ec00ffe7555bdb889e6e264a24dc711bf108106cc7baee8d5d"
   }
  }
 },
 "nbformat": 4,
 "nbformat_minor": 2
}
