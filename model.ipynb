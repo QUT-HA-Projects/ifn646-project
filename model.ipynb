{
 "cells": [
  {
   "cell_type": "code",
   "execution_count": 34,
   "metadata": {},
   "outputs": [],
   "source": [
    "# Flow_from_directory\n",
    "# https://www.tensorflow.org/api_docs/python/tf/keras/preprocessing/image/ImageDataGenerator\n",
    "from tensorflow.keras.preprocessing.image import ImageDataGenerator\n",
    "from tensorflow.keras.models import Sequential\n",
    "from tensorflow.keras.layers import Conv2D, MaxPooling2D, Flatten, Dense, Dropout\n",
    "from tensorflow.keras.applications.resnet import ResNet152\n",
    "from tensorflow.keras.regularizers import L2\n"
   ]
  },
  {
   "cell_type": "code",
   "execution_count": 35,
   "metadata": {},
   "outputs": [
    {
     "name": "stdout",
     "output_type": "stream",
     "text": [
      "Found 988 images belonging to 2 classes.\n",
      "Found 246 images belonging to 2 classes.\n",
      "Found 286 images belonging to 2 classes.\n"
     ]
    }
   ],
   "source": [
    "IMAGE_SIZE = 224\n",
    "\n",
    "# Train data with validation split with data augmentation\n",
    "train_generator = ImageDataGenerator(rescale=1./255, validation_split=0.2,\n",
    "                                     width_shift_range=0.2, height_shift_range=0.2,\n",
    "                                     horizontal_flip=True, vertical_flip=True,\n",
    "                                     brightness_range=[0.4,1.5],\n",
    "                                     )\n",
    "train= train_generator.flow_from_directory('data/full/calc/train/', target_size=(IMAGE_SIZE, IMAGE_SIZE), batch_size=16, class_mode='binary', subset='training')\n",
    "val= train_generator.flow_from_directory('data/full/calc/train/', target_size=(IMAGE_SIZE, IMAGE_SIZE), batch_size=16, class_mode='binary', subset='validation')\n",
    "\n",
    "# Test data\n",
    "test_generator = ImageDataGenerator(rescale=1./255)\n",
    "test = test_generator.flow_from_directory('data/full/calc/test/', target_size=(IMAGE_SIZE, IMAGE_SIZE), batch_size=16, class_mode='binary')"
   ]
  },
  {
   "cell_type": "code",
   "execution_count": 36,
   "metadata": {},
   "outputs": [],
   "source": [
    "pretrained_model = ResNet152(include_top=False,\n",
    "                             pooling='max',\n",
    "                             classes=2,\n",
    "                             weights='imagenet'\n",
    "                             )\n",
    "\n",
    "model_layers = [\n",
    "    pretrained_model,\n",
    "    Dense(units=512, activation='relu', kernel_regularizer=L2(0.0001), bias_regularizer=L2(0.001)),\n",
    "    Dropout(0.5),\n",
    "    Dense(units=128, activation='relu', kernel_regularizer=L2(0.0001), bias_regularizer=L2(0.0001)),\n",
    "    Dense(units=1, activation='sigmoid'),\n",
    "]\n",
    "\n",
    "model = Sequential(model_layers)"
   ]
  },
  {
   "cell_type": "code",
   "execution_count": 37,
   "metadata": {},
   "outputs": [],
   "source": [
    "model.compile(optimizer='adam', loss='binary_crossentropy', metrics=['accuracy'])"
   ]
  },
  {
   "cell_type": "code",
   "execution_count": null,
   "metadata": {},
   "outputs": [],
   "source": [
    "model.fit(train, validation_data=val, epochs=30)"
   ]
  },
  {
   "cell_type": "code",
   "execution_count": null,
   "metadata": {},
   "outputs": [],
   "source": [
    "# Plot the training and validation accuracy and loss at each epoch\n",
    "import matplotlib.pyplot as plt\n",
    "acc = model.history.history['accuracy']\n",
    "val_acc = model.history.history['val_accuracy']\n",
    "loss = model.history.history['loss']\n",
    "val_loss = model.history.history['val_loss']\n",
    "\n",
    "epochs = range(len(acc))\n",
    "\n",
    "plt.plot(epochs, acc, 'r', label='Training accuracy')\n",
    "plt.plot(epochs, val_acc, 'b', label='Validation accuracy')\n",
    "plt.title('Training and validation accuracy')\n",
    "plt.legend(loc=0)\n",
    "plt.figure()"
   ]
  },
  {
   "cell_type": "code",
   "execution_count": null,
   "metadata": {},
   "outputs": [],
   "source": [
    "# Create roc curve\n",
    "from sklearn.metrics import roc_curve\n",
    "import matplotlib.pyplot as plt\n",
    "import numpy as np\n",
    "\n",
    "# Get the predictions from the model using the generator\n",
    "predictions = model.predict(test)\n",
    "\n",
    "# Get the true values from the generator\n",
    "true_values = test.classes\n",
    "\n",
    "# Get the predicted probabilities for each class\n",
    "pred_probabilities = predictions\n",
    "\n",
    "# Get the false positive rate and true positive rate\n",
    "fpr, tpr, thresholds = roc_curve(true_values, pred_probabilities)\n",
    "\n",
    "# Plot the ROC curve\n",
    "plt.plot([0, 1], [0, 1], 'k--')\n",
    "plt.plot(fpr, tpr, label='ResNet152')\n",
    "plt.xlabel('False positive rate')\n",
    "plt.ylabel('True positive rate')"
   ]
  }
 ],
 "metadata": {
  "kernelspec": {
   "display_name": "Python 3.9.7 ('base')",
   "language": "python",
   "name": "python3"
  },
  "language_info": {
   "codemirror_mode": {
    "name": "ipython",
    "version": 3
   },
   "file_extension": ".py",
   "mimetype": "text/x-python",
   "name": "python",
   "nbconvert_exporter": "python",
   "pygments_lexer": "ipython3",
   "version": "3.9.7"
  },
  "orig_nbformat": 4,
  "vscode": {
   "interpreter": {
    "hash": "3067ead486e059ec00ffe7555bdb889e6e264a24dc711bf108106cc7baee8d5d"
   }
  }
 },
 "nbformat": 4,
 "nbformat_minor": 2
}
